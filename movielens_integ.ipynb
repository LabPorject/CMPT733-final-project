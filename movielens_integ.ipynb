{
 "cells": [
  {
   "cell_type": "code",
   "execution_count": 1,
   "metadata": {},
   "outputs": [],
   "source": [
    "import pandas as pd\n",
    "import json\n",
    "import numpy as np\n",
    "import pymongo\n",
    "from pymongo import MongoClient"
   ]
  },
  {
   "cell_type": "code",
   "execution_count": 2,
   "metadata": {},
   "outputs": [],
   "source": [
    "client = MongoClient('127.0.0.1', 27017)\n",
    "db = client.aoligei\n",
    "movielens_collection = db.movielens_movies\n",
    "reviewlens_collection = db.movielens_reviews"
   ]
  },
  {
   "cell_type": "code",
   "execution_count": 3,
   "metadata": {},
   "outputs": [],
   "source": [
    "movies = pd.read_csv('./raw_data/movie_lens/movies.csv')"
   ]
  },
  {
   "cell_type": "code",
   "execution_count": 4,
   "metadata": {},
   "outputs": [],
   "source": [
    "links = pd.read_csv('./raw_data/movie_lens/links.csv')"
   ]
  },
  {
   "cell_type": "code",
   "execution_count": 5,
   "metadata": {},
   "outputs": [],
   "source": [
    "movies = movies.merge(links, on='movieId')"
   ]
  },
  {
   "cell_type": "code",
   "execution_count": 6,
   "metadata": {},
   "outputs": [],
   "source": [
    "movies = movies.rename(columns={\"imdbId\": \"_id\", \"movieId\": \"movieLens_Id\"})"
   ]
  },
  {
   "cell_type": "code",
   "execution_count": 7,
   "metadata": {},
   "outputs": [],
   "source": [
    "movies['_id'] = movies['_id'].astype(str)"
   ]
  },
  {
   "cell_type": "code",
   "execution_count": 8,
   "metadata": {},
   "outputs": [],
   "source": [
    "movies['_id'] = 'tt' + movies._id.str[:]"
   ]
  },
  {
   "cell_type": "code",
   "execution_count": 9,
   "metadata": {},
   "outputs": [],
   "source": [
    "ratings = pd.read_csv('./raw_data/movie_lens/ratings.csv')"
   ]
  },
  {
   "cell_type": "code",
   "execution_count": 10,
   "metadata": {},
   "outputs": [],
   "source": [
    "ratings_permovie = ratings.groupby('movieId').rating.apply(list).reset_index()"
   ]
  },
  {
   "cell_type": "code",
   "execution_count": 11,
   "metadata": {},
   "outputs": [],
   "source": [
    "movies = movies.merge(ratings_permovie,left_on='movieLens_Id', right_on='movieId')"
   ]
  },
  {
   "cell_type": "code",
   "execution_count": 12,
   "metadata": {},
   "outputs": [],
   "source": [
    "movies = movies.merge(ratings.groupby('movieId').mean(),left_on='movieLens_Id', right_on='movieId')"
   ]
  },
  {
   "cell_type": "code",
   "execution_count": 13,
   "metadata": {},
   "outputs": [],
   "source": [
    "movies = movies.drop(['movieId', 'userId','timestamp'], axis=1)"
   ]
  },
  {
   "cell_type": "code",
   "execution_count": 14,
   "metadata": {},
   "outputs": [],
   "source": [
    "movies=movies.rename(columns={\"rating_x\": \"individual_ratings\", \"rating_y\": \"avg_rating\"})"
   ]
  },
  {
   "cell_type": "code",
   "execution_count": 15,
   "metadata": {},
   "outputs": [
    {
     "data": {
      "text/html": [
       "<div>\n",
       "<style scoped>\n",
       "    .dataframe tbody tr th:only-of-type {\n",
       "        vertical-align: middle;\n",
       "    }\n",
       "\n",
       "    .dataframe tbody tr th {\n",
       "        vertical-align: top;\n",
       "    }\n",
       "\n",
       "    .dataframe thead th {\n",
       "        text-align: right;\n",
       "    }\n",
       "</style>\n",
       "<table border=\"1\" class=\"dataframe\">\n",
       "  <thead>\n",
       "    <tr style=\"text-align: right;\">\n",
       "      <th></th>\n",
       "      <th>movieLens_Id</th>\n",
       "      <th>title</th>\n",
       "      <th>genres</th>\n",
       "      <th>_id</th>\n",
       "      <th>tmdbId</th>\n",
       "      <th>individual_ratings</th>\n",
       "      <th>avg_rating</th>\n",
       "    </tr>\n",
       "  </thead>\n",
       "  <tbody>\n",
       "    <tr>\n",
       "      <th>0</th>\n",
       "      <td>1</td>\n",
       "      <td>Toy Story (1995)</td>\n",
       "      <td>Adventure|Animation|Children|Comedy|Fantasy</td>\n",
       "      <td>tt114709</td>\n",
       "      <td>862.0</td>\n",
       "      <td>[4.0, 4.0, 4.5, 2.5, 4.5, 3.5, 4.0, 3.5, 3.0, ...</td>\n",
       "      <td>3.920930</td>\n",
       "    </tr>\n",
       "    <tr>\n",
       "      <th>1</th>\n",
       "      <td>2</td>\n",
       "      <td>Jumanji (1995)</td>\n",
       "      <td>Adventure|Children|Fantasy</td>\n",
       "      <td>tt113497</td>\n",
       "      <td>8844.0</td>\n",
       "      <td>[4.0, 4.0, 3.0, 3.0, 3.0, 3.5, 4.0, 4.5, 4.0, ...</td>\n",
       "      <td>3.431818</td>\n",
       "    </tr>\n",
       "    <tr>\n",
       "      <th>2</th>\n",
       "      <td>3</td>\n",
       "      <td>Grumpier Old Men (1995)</td>\n",
       "      <td>Comedy|Romance</td>\n",
       "      <td>tt113228</td>\n",
       "      <td>15602.0</td>\n",
       "      <td>[4.0, 5.0, 3.0, 3.0, 4.0, 5.0, 3.0, 4.0, 3.0, ...</td>\n",
       "      <td>3.259615</td>\n",
       "    </tr>\n",
       "    <tr>\n",
       "      <th>3</th>\n",
       "      <td>4</td>\n",
       "      <td>Waiting to Exhale (1995)</td>\n",
       "      <td>Comedy|Drama|Romance</td>\n",
       "      <td>tt114885</td>\n",
       "      <td>31357.0</td>\n",
       "      <td>[3.0, 3.0, 3.0, 3.0, 1.0, 2.0, 1.5]</td>\n",
       "      <td>2.357143</td>\n",
       "    </tr>\n",
       "    <tr>\n",
       "      <th>4</th>\n",
       "      <td>5</td>\n",
       "      <td>Father of the Bride Part II (1995)</td>\n",
       "      <td>Comedy</td>\n",
       "      <td>tt113041</td>\n",
       "      <td>11862.0</td>\n",
       "      <td>[5.0, 3.0, 5.0, 3.0, 4.0, 4.0, 2.0, 3.0, 4.0, ...</td>\n",
       "      <td>3.071429</td>\n",
       "    </tr>\n",
       "    <tr>\n",
       "      <th>...</th>\n",
       "      <td>...</td>\n",
       "      <td>...</td>\n",
       "      <td>...</td>\n",
       "      <td>...</td>\n",
       "      <td>...</td>\n",
       "      <td>...</td>\n",
       "      <td>...</td>\n",
       "    </tr>\n",
       "    <tr>\n",
       "      <th>9719</th>\n",
       "      <td>193581</td>\n",
       "      <td>Black Butler: Book of the Atlantic (2017)</td>\n",
       "      <td>Action|Animation|Comedy|Fantasy</td>\n",
       "      <td>tt5476944</td>\n",
       "      <td>432131.0</td>\n",
       "      <td>[4.0]</td>\n",
       "      <td>4.000000</td>\n",
       "    </tr>\n",
       "    <tr>\n",
       "      <th>9720</th>\n",
       "      <td>193583</td>\n",
       "      <td>No Game No Life: Zero (2017)</td>\n",
       "      <td>Animation|Comedy|Fantasy</td>\n",
       "      <td>tt5914996</td>\n",
       "      <td>445030.0</td>\n",
       "      <td>[3.5]</td>\n",
       "      <td>3.500000</td>\n",
       "    </tr>\n",
       "    <tr>\n",
       "      <th>9721</th>\n",
       "      <td>193585</td>\n",
       "      <td>Flint (2017)</td>\n",
       "      <td>Drama</td>\n",
       "      <td>tt6397426</td>\n",
       "      <td>479308.0</td>\n",
       "      <td>[3.5]</td>\n",
       "      <td>3.500000</td>\n",
       "    </tr>\n",
       "    <tr>\n",
       "      <th>9722</th>\n",
       "      <td>193587</td>\n",
       "      <td>Bungo Stray Dogs: Dead Apple (2018)</td>\n",
       "      <td>Action|Animation</td>\n",
       "      <td>tt8391976</td>\n",
       "      <td>483455.0</td>\n",
       "      <td>[3.5]</td>\n",
       "      <td>3.500000</td>\n",
       "    </tr>\n",
       "    <tr>\n",
       "      <th>9723</th>\n",
       "      <td>193609</td>\n",
       "      <td>Andrew Dice Clay: Dice Rules (1991)</td>\n",
       "      <td>Comedy</td>\n",
       "      <td>tt101726</td>\n",
       "      <td>37891.0</td>\n",
       "      <td>[4.0]</td>\n",
       "      <td>4.000000</td>\n",
       "    </tr>\n",
       "  </tbody>\n",
       "</table>\n",
       "<p>9724 rows × 7 columns</p>\n",
       "</div>"
      ],
      "text/plain": [
       "      movieLens_Id                                      title  \\\n",
       "0                1                           Toy Story (1995)   \n",
       "1                2                             Jumanji (1995)   \n",
       "2                3                    Grumpier Old Men (1995)   \n",
       "3                4                   Waiting to Exhale (1995)   \n",
       "4                5         Father of the Bride Part II (1995)   \n",
       "...            ...                                        ...   \n",
       "9719        193581  Black Butler: Book of the Atlantic (2017)   \n",
       "9720        193583               No Game No Life: Zero (2017)   \n",
       "9721        193585                               Flint (2017)   \n",
       "9722        193587        Bungo Stray Dogs: Dead Apple (2018)   \n",
       "9723        193609        Andrew Dice Clay: Dice Rules (1991)   \n",
       "\n",
       "                                           genres        _id    tmdbId  \\\n",
       "0     Adventure|Animation|Children|Comedy|Fantasy   tt114709     862.0   \n",
       "1                      Adventure|Children|Fantasy   tt113497    8844.0   \n",
       "2                                  Comedy|Romance   tt113228   15602.0   \n",
       "3                            Comedy|Drama|Romance   tt114885   31357.0   \n",
       "4                                          Comedy   tt113041   11862.0   \n",
       "...                                           ...        ...       ...   \n",
       "9719              Action|Animation|Comedy|Fantasy  tt5476944  432131.0   \n",
       "9720                     Animation|Comedy|Fantasy  tt5914996  445030.0   \n",
       "9721                                        Drama  tt6397426  479308.0   \n",
       "9722                             Action|Animation  tt8391976  483455.0   \n",
       "9723                                       Comedy   tt101726   37891.0   \n",
       "\n",
       "                                     individual_ratings  avg_rating  \n",
       "0     [4.0, 4.0, 4.5, 2.5, 4.5, 3.5, 4.0, 3.5, 3.0, ...    3.920930  \n",
       "1     [4.0, 4.0, 3.0, 3.0, 3.0, 3.5, 4.0, 4.5, 4.0, ...    3.431818  \n",
       "2     [4.0, 5.0, 3.0, 3.0, 4.0, 5.0, 3.0, 4.0, 3.0, ...    3.259615  \n",
       "3                   [3.0, 3.0, 3.0, 3.0, 1.0, 2.0, 1.5]    2.357143  \n",
       "4     [5.0, 3.0, 5.0, 3.0, 4.0, 4.0, 2.0, 3.0, 4.0, ...    3.071429  \n",
       "...                                                 ...         ...  \n",
       "9719                                              [4.0]    4.000000  \n",
       "9720                                              [3.5]    3.500000  \n",
       "9721                                              [3.5]    3.500000  \n",
       "9722                                              [3.5]    3.500000  \n",
       "9723                                              [4.0]    4.000000  \n",
       "\n",
       "[9724 rows x 7 columns]"
      ]
     },
     "execution_count": 15,
     "metadata": {},
     "output_type": "execute_result"
    }
   ],
   "source": [
    "movies"
   ]
  },
  {
   "cell_type": "code",
   "execution_count": 16,
   "metadata": {},
   "outputs": [],
   "source": [
    "ratings = ratings.merge(links[['movieId', 'imdbId']], on='movieId')"
   ]
  },
  {
   "cell_type": "code",
   "execution_count": 17,
   "metadata": {},
   "outputs": [],
   "source": [
    "ratings = ratings.rename(columns={\"movieId\": \"movieLens_Id\"})"
   ]
  },
  {
   "cell_type": "code",
   "execution_count": 18,
   "metadata": {},
   "outputs": [],
   "source": [
    "ratings_tojson = ratings.to_json(orient=\"records\")\n",
    "result_ratings = json.loads(ratings_tojson)"
   ]
  },
  {
   "cell_type": "code",
   "execution_count": 19,
   "metadata": {},
   "outputs": [],
   "source": [
    "movies_tojson = movies.to_json(orient=\"records\")\n",
    "result = json.loads(movies_tojson)"
   ]
  },
  {
   "cell_type": "code",
   "execution_count": 20,
   "metadata": {},
   "outputs": [
    {
     "data": {
      "text/plain": [
       "<pymongo.results.InsertManyResult at 0x7f8924656fc8>"
      ]
     },
     "execution_count": 20,
     "metadata": {},
     "output_type": "execute_result"
    }
   ],
   "source": [
    "movielens_collection.insert_many(result)\n",
    "reviewlens_collection.insert_many(result_ratings)"
   ]
  },
  {
   "cell_type": "code",
   "execution_count": null,
   "metadata": {},
   "outputs": [],
   "source": []
  }
 ],
 "metadata": {
  "kernelspec": {
   "display_name": "Python 3",
   "language": "python",
   "name": "python3"
  },
  "language_info": {
   "codemirror_mode": {
    "name": "ipython",
    "version": 3
   },
   "file_extension": ".py",
   "mimetype": "text/x-python",
   "name": "python",
   "nbconvert_exporter": "python",
   "pygments_lexer": "ipython3",
   "version": "3.7.0"
  }
 },
 "nbformat": 4,
 "nbformat_minor": 4
}
