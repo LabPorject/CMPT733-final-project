{
 "cells": [
  {
   "cell_type": "code",
   "execution_count": 2,
   "metadata": {},
   "outputs": [],
   "source": [
    "import pandas as pd\n",
    "import json\n",
    "import numpy as np\n",
    "import pymongo\n",
    "from pymongo import MongoClient\n",
    "from scripts.tmdb_api import getInfoIMDB"
   ]
  },
  {
   "cell_type": "code",
   "execution_count": 3,
   "metadata": {},
   "outputs": [],
   "source": [
    "client = MongoClient('127.0.0.1', 27017)\n",
    "db = client.aoligei\n",
    "imdb_collection = db.imdb_movies\n",
    "tmdb_collection = db.tmdb_movies"
   ]
  },
  {
   "cell_type": "code",
   "execution_count": 3,
   "metadata": {},
   "outputs": [],
   "source": [
    "imdb_cursor = imdb_collection.find({}, {'_id': 1})"
   ]
  },
  {
   "cell_type": "code",
   "execution_count": 4,
   "metadata": {},
   "outputs": [
    {
     "data": {
      "text/plain": [
       "{'_id': 'tt0000502'}"
      ]
     },
     "execution_count": 4,
     "metadata": {},
     "output_type": "execute_result"
    }
   ],
   "source": [
    "imdb_cursor.next()"
   ]
  },
  {
   "cell_type": "code",
   "execution_count": 5,
   "metadata": {},
   "outputs": [],
   "source": [
    "play = db.play"
   ]
  },
  {
   "cell_type": "code",
   "execution_count": 6,
   "metadata": {},
   "outputs": [],
   "source": [
    "play_cursor = play.find({}, {'_id': 1})"
   ]
  },
  {
   "cell_type": "code",
   "execution_count": null,
   "metadata": {},
   "outputs": [
    {
     "name": "stdout",
     "output_type": "stream",
     "text": [
      "tt0000574\n",
      "tt0000615\n",
      "tt0000679\n",
      "tt0001112\n",
      "tt0001175\n",
      "tt0001184\n",
      "tt0001186\n",
      "tt0001258\n",
      "tt0001285\n",
      "tt0001358\n",
      "tt0001592\n",
      "tt0001630\n",
      "tt0001790\n",
      "tt0001889\n",
      "tt0001892\n",
      "tt0001914\n",
      "tt0001964\n",
      "tt0002022\n",
      "tt0002026\n",
      "tt0002031\n",
      "tt0002101\n",
      "tt0002130\n",
      "tt0002152\n",
      "tt0002153\n",
      "tt0002157\n",
      "tt0002186\n",
      "tt0002199\n",
      "tt0002333\n",
      "tt0002348\n",
      "tt0002375\n",
      "tt0002423\n",
      "tt0002445\n",
      "tt0002452\n",
      "tt0002461\n",
      "tt0002500\n",
      "tt0002514\n",
      "tt0002555\n",
      "tt0002556\n",
      "tt0002572\n",
      "tt0002588\n",
      "tt0002590\n",
      "tt0002591\n",
      "tt0002605\n",
      "tt0002628\n",
      "tt0002637\n",
      "tt0002642\n",
      "tt0002646\n",
      "tt0002669\n",
      "tt0002685\n",
      "tt0002739\n",
      "tt0002751\n",
      "tt0002767\n",
      "tt0002785\n",
      "tt0002798\n",
      "tt0002801\n",
      "tt0002820\n",
      "tt0002823\n",
      "tt0002832\n",
      "tt0002883\n",
      "tt0002885\n",
      "tt0002889\n",
      "tt0002898\n",
      "tt0002917\n",
      "tt0002922\n",
      "tt0003002\n",
      "tt0003006\n",
      "tt0003014\n",
      "tt0003015\n",
      "tt0003022\n",
      "tt0003039\n",
      "tt0003051\n",
      "tt0003058\n",
      "tt0003102\n",
      "tt0003113\n",
      "tt0003131\n",
      "tt0003133\n",
      "tt0003150\n",
      "tt0003159\n",
      "tt0003167\n",
      "tt0003171\n",
      "tt0003227\n",
      "tt0003301\n",
      "tt0003306\n",
      "tt0003316\n",
      "tt0003330\n",
      "tt0003334\n",
      "tt0003363\n",
      "tt0003378\n",
      "tt0003386\n",
      "tt0003419\n",
      "tt0003423\n",
      "tt0003431\n",
      "tt0003442\n",
      "tt0003449\n",
      "tt0003471\n",
      "tt0003489\n",
      "tt0003502\n",
      "tt0003540\n",
      "tt0003565\n",
      "tt0003595\n",
      "tt0003596\n",
      "tt0003599\n",
      "tt0003608\n",
      "tt0003609\n",
      "tt0003625\n",
      "tt0003630\n",
      "tt0003632\n",
      "tt0003637\n",
      "tt0003643\n",
      "tt0003651\n",
      "tt0003657\n",
      "tt0003664\n",
      "tt0003665\n",
      "tt0003670\n",
      "tt0003698\n",
      "tt0003724\n",
      "tt0003731\n",
      "tt0003740\n",
      "tt0003743\n",
      "tt0003748\n",
      "tt0003772\n",
      "tt0003815\n",
      "tt0003816\n",
      "tt0003830\n",
      "tt0003854\n",
      "tt0003870\n",
      "tt0003871\n",
      "tt0003883\n",
      "tt0003884\n",
      "tt0003890\n",
      "tt0003893\n",
      "tt0003897\n",
      "tt0003960\n",
      "tt0003967\n",
      "tt0003973\n",
      "tt0004003\n",
      "tt0004009\n",
      "tt0004026\n",
      "tt0004027\n",
      "tt0004052\n",
      "tt0004066\n",
      "tt0004097\n",
      "tt0004099\n",
      "tt0004121\n",
      "tt0004134\n",
      "tt0004150\n",
      "tt0004179\n",
      "tt0004181\n",
      "tt0004182\n",
      "tt0004208\n",
      "tt0004223\n",
      "tt0004225\n",
      "tt0004232\n",
      "tt0004244\n",
      "tt0004249\n",
      "tt0004257\n",
      "tt0004267\n",
      "tt0004272\n",
      "tt0004275\n",
      "tt0004292\n",
      "tt0004294\n",
      "tt0004306\n",
      "tt0004307\n",
      "tt0004319\n",
      "tt0004325\n",
      "tt0004328\n",
      "tt0004336\n",
      "tt0004345\n",
      "tt0004347\n",
      "tt0004356\n",
      "tt0004369\n",
      "tt0004377\n",
      "tt0004384\n",
      "tt0004387\n",
      "tt0004390\n",
      "tt0004391\n",
      "tt0004415\n",
      "tt0004438\n",
      "tt0004450\n",
      "tt0004451\n",
      "tt0004456\n",
      "tt0004457\n",
      "tt0004465\n"
     ]
    }
   ],
   "source": [
    "count = 0 \n",
    "for p in imdb_cursor:\n",
    "#     print(p['_id'])\n",
    "    try:\n",
    "        info = getInfoIMDB(p['_id'])\n",
    "        if info is not None:\n",
    "            info[0]\n",
    "            count += 1\n",
    "    except:\n",
    "        print(p['_id'])\n",
    "        \n",
    "\n"
   ]
  },
  {
   "cell_type": "code",
   "execution_count": 17,
   "metadata": {},
   "outputs": [],
   "source": [
    "tr = getInfoIMDB('tt0000615')"
   ]
  },
  {
   "cell_type": "code",
   "execution_count": 18,
   "metadata": {},
   "outputs": [
    {
     "data": {
      "text/plain": [
       "'{\"_id\": \"tt0000615\", \"genre_ids\": [18], \"genres\": [\"Drama\"], \"tmdb_id\": 603786, \"vote_average\": 1.0, \"vote_count\": 1, \"poster_path\": null, \"original_language\": \"en\", \"popularity\": 0.621, \"budget\": 0, \"revenue\": 0, \"status\": \"Released\", \"tagline\": \"First filmed version of Rolf Boldrewood\\'s \\'Robbery Under Arms\\' Australian bushranger novel.\", \"homepage\": null, \"belongs_to_collection\": null, \"release_date\": \"1907-10-01\", \"overview\": \"Australian bushranger movie.  The first filmed version of Rolf Boldrewood\\'s \\'Robbery Under Arms\\' novel.\", \"primaryTitle\": \"Robbery Under Arms\", \"originalTitle\": \"Robbery Under Arms\", \"runtimeMinutes\": 60, \"isAdult\": false, \"company_id\": [118650], \"company_name\": [\"MacMahon\\'s Exquisite Pictures\"], \"keywords_id\": [], \"keywords_name\": [], \"num_of_cast\": 8, \"top_10_cast_popularity_mean\": 0.6, \"casts\": [\"Jim Gerald\", \"J. Williams\", \"George Merriman\", \"Lance Vane\", \"Mrs W.J. Ogle\", \"William Duff\", \"Arthur Guest\", \"Rhoda Dendron\"], \"top_10_cast_popularity\": [0.6, 0.6, 0.6, 0.6, 0.6, 0.6, 0.6, 0.6], \"num_of_crew\": 2, \"Writers\": [], \"top_10_crew_popularity_mean\": 0.6, \"crews\": [\"Charles MacMahon\", \"C. Byers Coates\"], \"top_10_crew_popularity\": [0.6, 0.6], \"Directors\": \"Charles MacMahon\"}'"
      ]
     },
     "execution_count": 18,
     "metadata": {},
     "output_type": "execute_result"
    }
   ],
   "source": [
    "tr[0]"
   ]
  },
  {
   "cell_type": "code",
   "execution_count": 20,
   "metadata": {},
   "outputs": [
    {
     "data": {
      "text/plain": [
       "{'_id': 'tt0000615',\n",
       " 'genre_ids': [18],\n",
       " 'genres': ['Drama'],\n",
       " 'tmdb_id': 603786,\n",
       " 'vote_average': 1.0,\n",
       " 'vote_count': 1,\n",
       " 'poster_path': None,\n",
       " 'original_language': 'en',\n",
       " 'popularity': 0.621,\n",
       " 'budget': 0,\n",
       " 'revenue': 0,\n",
       " 'status': 'Released',\n",
       " 'tagline': \"First filmed version of Rolf Boldrewood's 'Robbery Under Arms' Australian bushranger novel.\",\n",
       " 'homepage': None,\n",
       " 'belongs_to_collection': None,\n",
       " 'release_date': '1907-10-01',\n",
       " 'overview': \"Australian bushranger movie.  The first filmed version of Rolf Boldrewood's 'Robbery Under Arms' novel.\",\n",
       " 'primaryTitle': 'Robbery Under Arms',\n",
       " 'originalTitle': 'Robbery Under Arms',\n",
       " 'runtimeMinutes': 60,\n",
       " 'isAdult': False,\n",
       " 'company_id': [118650],\n",
       " 'company_name': [\"MacMahon's Exquisite Pictures\"],\n",
       " 'keywords_id': [],\n",
       " 'keywords_name': [],\n",
       " 'num_of_cast': 8,\n",
       " 'top_10_cast_popularity_mean': 0.6,\n",
       " 'casts': ['Jim Gerald',\n",
       "  'J. Williams',\n",
       "  'George Merriman',\n",
       "  'Lance Vane',\n",
       "  'Mrs W.J. Ogle',\n",
       "  'William Duff',\n",
       "  'Arthur Guest',\n",
       "  'Rhoda Dendron'],\n",
       " 'top_10_cast_popularity': [0.6, 0.6, 0.6, 0.6, 0.6, 0.6, 0.6, 0.6],\n",
       " 'num_of_crew': 2,\n",
       " 'Writers': [],\n",
       " 'top_10_crew_popularity_mean': 0.6,\n",
       " 'crews': ['Charles MacMahon', 'C. Byers Coates'],\n",
       " 'top_10_crew_popularity': [0.6, 0.6],\n",
       " 'Directors': 'Charles MacMahon'}"
      ]
     },
     "execution_count": 20,
     "metadata": {},
     "output_type": "execute_result"
    }
   ],
   "source": [
    "json.loads(tr[0])"
   ]
  },
  {
   "cell_type": "code",
   "execution_count": 19,
   "metadata": {},
   "outputs": [
    {
     "ename": "DuplicateKeyError",
     "evalue": "E11000 duplicate key error collection: aoligei.play index: _id_ dup key: { _id: \"tt0000615\" }, full error: {'index': 0, 'code': 11000, 'keyPattern': {'_id': 1}, 'keyValue': {'_id': 'tt0000615'}, 'errmsg': 'E11000 duplicate key error collection: aoligei.play index: _id_ dup key: { _id: \"tt0000615\" }'}",
     "output_type": "error",
     "traceback": [
      "\u001b[0;31m---------------------------------------------------------------------------\u001b[0m",
      "\u001b[0;31mDuplicateKeyError\u001b[0m                         Traceback (most recent call last)",
      "\u001b[0;32m<ipython-input-19-0aca5b8a58fc>\u001b[0m in \u001b[0;36m<module>\u001b[0;34m\u001b[0m\n\u001b[0;32m----> 1\u001b[0;31m \u001b[0mplay\u001b[0m\u001b[0;34m.\u001b[0m\u001b[0minsert_one\u001b[0m\u001b[0;34m(\u001b[0m\u001b[0mjson\u001b[0m\u001b[0;34m.\u001b[0m\u001b[0mloads\u001b[0m\u001b[0;34m(\u001b[0m\u001b[0mtr\u001b[0m\u001b[0;34m[\u001b[0m\u001b[0;36m0\u001b[0m\u001b[0;34m]\u001b[0m\u001b[0;34m)\u001b[0m\u001b[0;34m)\u001b[0m\u001b[0;34m\u001b[0m\u001b[0m\n\u001b[0m",
      "\u001b[0;32m/Library/Frameworks/Python.framework/Versions/3.7/lib/python3.7/site-packages/pymongo/collection.py\u001b[0m in \u001b[0;36minsert_one\u001b[0;34m(self, document, bypass_document_validation, session)\u001b[0m\n\u001b[1;32m    699\u001b[0m                          \u001b[0mwrite_concern\u001b[0m\u001b[0;34m=\u001b[0m\u001b[0mwrite_concern\u001b[0m\u001b[0;34m,\u001b[0m\u001b[0;34m\u001b[0m\u001b[0m\n\u001b[1;32m    700\u001b[0m                          \u001b[0mbypass_doc_val\u001b[0m\u001b[0;34m=\u001b[0m\u001b[0mbypass_document_validation\u001b[0m\u001b[0;34m,\u001b[0m\u001b[0;34m\u001b[0m\u001b[0m\n\u001b[0;32m--> 701\u001b[0;31m                          session=session),\n\u001b[0m\u001b[1;32m    702\u001b[0m             write_concern.acknowledged)\n\u001b[1;32m    703\u001b[0m \u001b[0;34m\u001b[0m\u001b[0m\n",
      "\u001b[0;32m/Library/Frameworks/Python.framework/Versions/3.7/lib/python3.7/site-packages/pymongo/collection.py\u001b[0m in \u001b[0;36m_insert\u001b[0;34m(self, docs, ordered, check_keys, manipulate, write_concern, op_id, bypass_doc_val, session)\u001b[0m\n\u001b[1;32m    613\u001b[0m             return self._insert_one(\n\u001b[1;32m    614\u001b[0m                 \u001b[0mdocs\u001b[0m\u001b[0;34m,\u001b[0m \u001b[0mordered\u001b[0m\u001b[0;34m,\u001b[0m \u001b[0mcheck_keys\u001b[0m\u001b[0;34m,\u001b[0m \u001b[0mmanipulate\u001b[0m\u001b[0;34m,\u001b[0m \u001b[0mwrite_concern\u001b[0m\u001b[0;34m,\u001b[0m \u001b[0mop_id\u001b[0m\u001b[0;34m,\u001b[0m\u001b[0;34m\u001b[0m\u001b[0m\n\u001b[0;32m--> 615\u001b[0;31m                 bypass_doc_val, session)\n\u001b[0m\u001b[1;32m    616\u001b[0m \u001b[0;34m\u001b[0m\u001b[0m\n\u001b[1;32m    617\u001b[0m         \u001b[0mids\u001b[0m \u001b[0;34m=\u001b[0m \u001b[0;34m[\u001b[0m\u001b[0;34m]\u001b[0m\u001b[0;34m\u001b[0m\u001b[0m\n",
      "\u001b[0;32m/Library/Frameworks/Python.framework/Versions/3.7/lib/python3.7/site-packages/pymongo/collection.py\u001b[0m in \u001b[0;36m_insert_one\u001b[0;34m(self, doc, ordered, check_keys, manipulate, write_concern, op_id, bypass_doc_val, session)\u001b[0m\n\u001b[1;32m    601\u001b[0m \u001b[0;34m\u001b[0m\u001b[0m\n\u001b[1;32m    602\u001b[0m         self.__database.client._retryable_write(\n\u001b[0;32m--> 603\u001b[0;31m             acknowledged, _insert_command, session)\n\u001b[0m\u001b[1;32m    604\u001b[0m \u001b[0;34m\u001b[0m\u001b[0m\n\u001b[1;32m    605\u001b[0m         \u001b[0;32mif\u001b[0m \u001b[0;32mnot\u001b[0m \u001b[0misinstance\u001b[0m\u001b[0;34m(\u001b[0m\u001b[0mdoc\u001b[0m\u001b[0;34m,\u001b[0m \u001b[0mRawBSONDocument\u001b[0m\u001b[0;34m)\u001b[0m\u001b[0;34m:\u001b[0m\u001b[0;34m\u001b[0m\u001b[0m\n",
      "\u001b[0;32m/Library/Frameworks/Python.framework/Versions/3.7/lib/python3.7/site-packages/pymongo/mongo_client.py\u001b[0m in \u001b[0;36m_retryable_write\u001b[0;34m(self, retryable, func, session)\u001b[0m\n\u001b[1;32m   1496\u001b[0m         \u001b[0;34m\"\"\"Internal retryable write helper.\"\"\"\u001b[0m\u001b[0;34m\u001b[0m\u001b[0m\n\u001b[1;32m   1497\u001b[0m         \u001b[0;32mwith\u001b[0m \u001b[0mself\u001b[0m\u001b[0;34m.\u001b[0m\u001b[0m_tmp_session\u001b[0m\u001b[0;34m(\u001b[0m\u001b[0msession\u001b[0m\u001b[0;34m)\u001b[0m \u001b[0;32mas\u001b[0m \u001b[0ms\u001b[0m\u001b[0;34m:\u001b[0m\u001b[0;34m\u001b[0m\u001b[0m\n\u001b[0;32m-> 1498\u001b[0;31m             \u001b[0;32mreturn\u001b[0m \u001b[0mself\u001b[0m\u001b[0;34m.\u001b[0m\u001b[0m_retry_with_session\u001b[0m\u001b[0;34m(\u001b[0m\u001b[0mretryable\u001b[0m\u001b[0;34m,\u001b[0m \u001b[0mfunc\u001b[0m\u001b[0;34m,\u001b[0m \u001b[0ms\u001b[0m\u001b[0;34m,\u001b[0m \u001b[0;32mNone\u001b[0m\u001b[0;34m)\u001b[0m\u001b[0;34m\u001b[0m\u001b[0m\n\u001b[0m\u001b[1;32m   1499\u001b[0m \u001b[0;34m\u001b[0m\u001b[0m\n\u001b[1;32m   1500\u001b[0m     \u001b[0;32mdef\u001b[0m \u001b[0m_handle_getlasterror\u001b[0m\u001b[0;34m(\u001b[0m\u001b[0mself\u001b[0m\u001b[0;34m,\u001b[0m \u001b[0maddress\u001b[0m\u001b[0;34m,\u001b[0m \u001b[0merror_msg\u001b[0m\u001b[0;34m)\u001b[0m\u001b[0;34m:\u001b[0m\u001b[0;34m\u001b[0m\u001b[0m\n",
      "\u001b[0;32m/Library/Frameworks/Python.framework/Versions/3.7/lib/python3.7/site-packages/pymongo/mongo_client.py\u001b[0m in \u001b[0;36m_retry_with_session\u001b[0;34m(self, retryable, func, session, bulk)\u001b[0m\n\u001b[1;32m   1382\u001b[0m         retryable = (retryable and self.retry_writes\n\u001b[1;32m   1383\u001b[0m                      and session and not session.in_transaction)\n\u001b[0;32m-> 1384\u001b[0;31m         \u001b[0;32mreturn\u001b[0m \u001b[0mself\u001b[0m\u001b[0;34m.\u001b[0m\u001b[0m_retry_internal\u001b[0m\u001b[0;34m(\u001b[0m\u001b[0mretryable\u001b[0m\u001b[0;34m,\u001b[0m \u001b[0mfunc\u001b[0m\u001b[0;34m,\u001b[0m \u001b[0msession\u001b[0m\u001b[0;34m,\u001b[0m \u001b[0mbulk\u001b[0m\u001b[0;34m)\u001b[0m\u001b[0;34m\u001b[0m\u001b[0m\n\u001b[0m\u001b[1;32m   1385\u001b[0m \u001b[0;34m\u001b[0m\u001b[0m\n\u001b[1;32m   1386\u001b[0m     \u001b[0;32mdef\u001b[0m \u001b[0m_retry_internal\u001b[0m\u001b[0;34m(\u001b[0m\u001b[0mself\u001b[0m\u001b[0;34m,\u001b[0m \u001b[0mretryable\u001b[0m\u001b[0;34m,\u001b[0m \u001b[0mfunc\u001b[0m\u001b[0;34m,\u001b[0m \u001b[0msession\u001b[0m\u001b[0;34m,\u001b[0m \u001b[0mbulk\u001b[0m\u001b[0;34m)\u001b[0m\u001b[0;34m:\u001b[0m\u001b[0;34m\u001b[0m\u001b[0m\n",
      "\u001b[0;32m/Library/Frameworks/Python.framework/Versions/3.7/lib/python3.7/site-packages/pymongo/mongo_client.py\u001b[0m in \u001b[0;36m_retry_internal\u001b[0;34m(self, retryable, func, session, bulk)\u001b[0m\n\u001b[1;32m   1414\u001b[0m                             \u001b[0;32mraise\u001b[0m \u001b[0mlast_error\u001b[0m\u001b[0;34m\u001b[0m\u001b[0m\n\u001b[1;32m   1415\u001b[0m                         \u001b[0mretryable\u001b[0m \u001b[0;34m=\u001b[0m \u001b[0;32mFalse\u001b[0m\u001b[0;34m\u001b[0m\u001b[0m\n\u001b[0;32m-> 1416\u001b[0;31m                     \u001b[0;32mreturn\u001b[0m \u001b[0mfunc\u001b[0m\u001b[0;34m(\u001b[0m\u001b[0msession\u001b[0m\u001b[0;34m,\u001b[0m \u001b[0msock_info\u001b[0m\u001b[0;34m,\u001b[0m \u001b[0mretryable\u001b[0m\u001b[0;34m)\u001b[0m\u001b[0;34m\u001b[0m\u001b[0m\n\u001b[0m\u001b[1;32m   1417\u001b[0m             \u001b[0;32mexcept\u001b[0m \u001b[0mServerSelectionTimeoutError\u001b[0m\u001b[0;34m:\u001b[0m\u001b[0;34m\u001b[0m\u001b[0m\n\u001b[1;32m   1418\u001b[0m                 \u001b[0;32mif\u001b[0m \u001b[0mis_retrying\u001b[0m\u001b[0;34m(\u001b[0m\u001b[0;34m)\u001b[0m\u001b[0;34m:\u001b[0m\u001b[0;34m\u001b[0m\u001b[0m\n",
      "\u001b[0;32m/Library/Frameworks/Python.framework/Versions/3.7/lib/python3.7/site-packages/pymongo/collection.py\u001b[0m in \u001b[0;36m_insert_command\u001b[0;34m(session, sock_info, retryable_write)\u001b[0m\n\u001b[1;32m    598\u001b[0m                 retryable_write=retryable_write)\n\u001b[1;32m    599\u001b[0m \u001b[0;34m\u001b[0m\u001b[0m\n\u001b[0;32m--> 600\u001b[0;31m             \u001b[0m_check_write_command_response\u001b[0m\u001b[0;34m(\u001b[0m\u001b[0mresult\u001b[0m\u001b[0;34m)\u001b[0m\u001b[0;34m\u001b[0m\u001b[0m\n\u001b[0m\u001b[1;32m    601\u001b[0m \u001b[0;34m\u001b[0m\u001b[0m\n\u001b[1;32m    602\u001b[0m         self.__database.client._retryable_write(\n",
      "\u001b[0;32m/Library/Frameworks/Python.framework/Versions/3.7/lib/python3.7/site-packages/pymongo/helpers.py\u001b[0m in \u001b[0;36m_check_write_command_response\u001b[0;34m(result)\u001b[0m\n\u001b[1;32m    224\u001b[0m     \u001b[0mwrite_errors\u001b[0m \u001b[0;34m=\u001b[0m \u001b[0mresult\u001b[0m\u001b[0;34m.\u001b[0m\u001b[0mget\u001b[0m\u001b[0;34m(\u001b[0m\u001b[0;34m\"writeErrors\"\u001b[0m\u001b[0;34m)\u001b[0m\u001b[0;34m\u001b[0m\u001b[0m\n\u001b[1;32m    225\u001b[0m     \u001b[0;32mif\u001b[0m \u001b[0mwrite_errors\u001b[0m\u001b[0;34m:\u001b[0m\u001b[0;34m\u001b[0m\u001b[0m\n\u001b[0;32m--> 226\u001b[0;31m         \u001b[0m_raise_last_write_error\u001b[0m\u001b[0;34m(\u001b[0m\u001b[0mwrite_errors\u001b[0m\u001b[0;34m)\u001b[0m\u001b[0;34m\u001b[0m\u001b[0m\n\u001b[0m\u001b[1;32m    227\u001b[0m \u001b[0;34m\u001b[0m\u001b[0m\n\u001b[1;32m    228\u001b[0m     \u001b[0merror\u001b[0m \u001b[0;34m=\u001b[0m \u001b[0mresult\u001b[0m\u001b[0;34m.\u001b[0m\u001b[0mget\u001b[0m\u001b[0;34m(\u001b[0m\u001b[0;34m\"writeConcernError\"\u001b[0m\u001b[0;34m)\u001b[0m\u001b[0;34m\u001b[0m\u001b[0m\n",
      "\u001b[0;32m/Library/Frameworks/Python.framework/Versions/3.7/lib/python3.7/site-packages/pymongo/helpers.py\u001b[0m in \u001b[0;36m_raise_last_write_error\u001b[0;34m(write_errors)\u001b[0m\n\u001b[1;32m    205\u001b[0m     \u001b[0merror\u001b[0m \u001b[0;34m=\u001b[0m \u001b[0mwrite_errors\u001b[0m\u001b[0;34m[\u001b[0m\u001b[0;34m-\u001b[0m\u001b[0;36m1\u001b[0m\u001b[0;34m]\u001b[0m\u001b[0;34m\u001b[0m\u001b[0m\n\u001b[1;32m    206\u001b[0m     \u001b[0;32mif\u001b[0m \u001b[0merror\u001b[0m\u001b[0;34m.\u001b[0m\u001b[0mget\u001b[0m\u001b[0;34m(\u001b[0m\u001b[0;34m\"code\"\u001b[0m\u001b[0;34m)\u001b[0m \u001b[0;34m==\u001b[0m \u001b[0;36m11000\u001b[0m\u001b[0;34m:\u001b[0m\u001b[0;34m\u001b[0m\u001b[0m\n\u001b[0;32m--> 207\u001b[0;31m         \u001b[0;32mraise\u001b[0m \u001b[0mDuplicateKeyError\u001b[0m\u001b[0;34m(\u001b[0m\u001b[0merror\u001b[0m\u001b[0;34m.\u001b[0m\u001b[0mget\u001b[0m\u001b[0;34m(\u001b[0m\u001b[0;34m\"errmsg\"\u001b[0m\u001b[0;34m)\u001b[0m\u001b[0;34m,\u001b[0m \u001b[0;36m11000\u001b[0m\u001b[0;34m,\u001b[0m \u001b[0merror\u001b[0m\u001b[0;34m)\u001b[0m\u001b[0;34m\u001b[0m\u001b[0m\n\u001b[0m\u001b[1;32m    208\u001b[0m     \u001b[0;32mraise\u001b[0m \u001b[0mWriteError\u001b[0m\u001b[0;34m(\u001b[0m\u001b[0merror\u001b[0m\u001b[0;34m.\u001b[0m\u001b[0mget\u001b[0m\u001b[0;34m(\u001b[0m\u001b[0;34m\"errmsg\"\u001b[0m\u001b[0;34m)\u001b[0m\u001b[0;34m,\u001b[0m \u001b[0merror\u001b[0m\u001b[0;34m.\u001b[0m\u001b[0mget\u001b[0m\u001b[0;34m(\u001b[0m\u001b[0;34m\"code\"\u001b[0m\u001b[0;34m)\u001b[0m\u001b[0;34m,\u001b[0m \u001b[0merror\u001b[0m\u001b[0;34m)\u001b[0m\u001b[0;34m\u001b[0m\u001b[0m\n\u001b[1;32m    209\u001b[0m \u001b[0;34m\u001b[0m\u001b[0m\n",
      "\u001b[0;31mDuplicateKeyError\u001b[0m: E11000 duplicate key error collection: aoligei.play index: _id_ dup key: { _id: \"tt0000615\" }, full error: {'index': 0, 'code': 11000, 'keyPattern': {'_id': 1}, 'keyValue': {'_id': 'tt0000615'}, 'errmsg': 'E11000 duplicate key error collection: aoligei.play index: _id_ dup key: { _id: \"tt0000615\" }'}"
     ]
    }
   ],
   "source": [
    "play.insert_one(json.loads(tr[0]))"
   ]
  },
  {
   "cell_type": "code",
   "execution_count": null,
   "metadata": {},
   "outputs": [],
   "source": []
  }
 ],
 "metadata": {
  "kernelspec": {
   "display_name": "Python 3",
   "language": "python",
   "name": "python3"
  },
  "language_info": {
   "codemirror_mode": {
    "name": "ipython",
    "version": 3
   },
   "file_extension": ".py",
   "mimetype": "text/x-python",
   "name": "python",
   "nbconvert_exporter": "python",
   "pygments_lexer": "ipython3",
   "version": "3.7.0"
  }
 },
 "nbformat": 4,
 "nbformat_minor": 4
}
